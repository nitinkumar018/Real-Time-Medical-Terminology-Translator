{
 "cells": [
  {
   "cell_type": "raw",
   "id": "bb3a8094",
   "metadata": {},
   "source": [
    "!pip install SpeechRecognition #This installs the SpeechRecognition library\n",
    "                               # It allows Python to understand and convert your voice (speech) into text\n",
    "                               \n",
    "!pip install gTTS  #This installs the gTTS (Google Text-to-Speech) library\n",
    "                   # It allows Python to convert text into spoken voice (audio output)\n",
    "                   \n",
    "!pip install pandas # This installs the pandas library\n",
    "                    # It is used for handling data in tables, like reading/writing patient records (CSV files"
   ]
  },
  {
   "cell_type": "code",
   "execution_count": 1,
   "id": "9f249196",
   "metadata": {},
   "outputs": [
    {
     "name": "stdout",
     "output_type": "stream",
     "text": [
      "Requirement already satisfied: SpeechRecognition in c:\\users\\nitin\\anaconda3\\lib\\site-packages (3.14.2)\n",
      "Requirement already satisfied: typing-extensions in c:\\users\\nitin\\anaconda3\\lib\\site-packages (from SpeechRecognition) (4.11.0)\n",
      "Requirement already satisfied: gTTS in c:\\users\\nitin\\anaconda3\\lib\\site-packages (2.5.4)\n",
      "Requirement already satisfied: requests<3,>=2.27 in c:\\users\\nitin\\anaconda3\\lib\\site-packages (from gTTS) (2.28.1)\n",
      "Requirement already satisfied: click<8.2,>=7.1 in c:\\users\\nitin\\anaconda3\\lib\\site-packages (from gTTS) (8.1.8)\n",
      "Requirement already satisfied: colorama in c:\\users\\nitin\\anaconda3\\lib\\site-packages (from click<8.2,>=7.1->gTTS) (0.4.5)\n",
      "Requirement already satisfied: charset-normalizer<3,>=2 in c:\\users\\nitin\\anaconda3\\lib\\site-packages (from requests<3,>=2.27->gTTS) (2.0.4)\n",
      "Requirement already satisfied: idna<4,>=2.5 in c:\\users\\nitin\\anaconda3\\lib\\site-packages (from requests<3,>=2.27->gTTS) (3.3)\n",
      "Requirement already satisfied: urllib3<1.27,>=1.21.1 in c:\\users\\nitin\\anaconda3\\lib\\site-packages (from requests<3,>=2.27->gTTS) (1.26.11)\n",
      "Requirement already satisfied: certifi>=2017.4.17 in c:\\users\\nitin\\anaconda3\\lib\\site-packages (from requests<3,>=2.27->gTTS) (2022.9.14)\n",
      "Requirement already satisfied: pandas in c:\\users\\nitin\\anaconda3\\lib\\site-packages (2.2.3)\n",
      "Requirement already satisfied: numpy>=1.22.4 in c:\\users\\nitin\\anaconda3\\lib\\site-packages (from pandas) (1.23.5)\n",
      "Requirement already satisfied: python-dateutil>=2.8.2 in c:\\users\\nitin\\anaconda3\\lib\\site-packages (from pandas) (2.8.2)\n",
      "Requirement already satisfied: pytz>=2020.1 in c:\\users\\nitin\\anaconda3\\lib\\site-packages (from pandas) (2022.1)\n",
      "Requirement already satisfied: tzdata>=2022.7 in c:\\users\\nitin\\anaconda3\\lib\\site-packages (from pandas) (2025.1)\n",
      "Requirement already satisfied: six>=1.5 in c:\\users\\nitin\\anaconda3\\lib\\site-packages (from python-dateutil>=2.8.2->pandas) (1.16.0)\n"
     ]
    }
   ],
   "source": [
    "!pip install SpeechRecognition \n",
    "!pip install gTTS  \n",
    "!pip install pandas "
   ]
  },
  {
   "cell_type": "raw",
   "id": "93ca5963",
   "metadata": {},
   "source": [
    "!pip install deep-translator # This installs the deep-translator library\n",
    "                             # It helps translate text from one language to another using services like Google Translate"
   ]
  },
  {
   "cell_type": "code",
   "execution_count": 2,
   "id": "03ca1a3b",
   "metadata": {},
   "outputs": [
    {
     "name": "stdout",
     "output_type": "stream",
     "text": [
      "Requirement already satisfied: deep-translator in c:\\users\\nitin\\anaconda3\\lib\\site-packages (1.11.4)\n",
      "Requirement already satisfied: beautifulsoup4<5.0.0,>=4.9.1 in c:\\users\\nitin\\anaconda3\\lib\\site-packages (from deep-translator) (4.11.1)\n",
      "Requirement already satisfied: requests<3.0.0,>=2.23.0 in c:\\users\\nitin\\anaconda3\\lib\\site-packages (from deep-translator) (2.28.1)\n",
      "Requirement already satisfied: soupsieve>1.2 in c:\\users\\nitin\\anaconda3\\lib\\site-packages (from beautifulsoup4<5.0.0,>=4.9.1->deep-translator) (2.3.1)\n",
      "Requirement already satisfied: charset-normalizer<3,>=2 in c:\\users\\nitin\\anaconda3\\lib\\site-packages (from requests<3.0.0,>=2.23.0->deep-translator) (2.0.4)\n",
      "Requirement already satisfied: idna<4,>=2.5 in c:\\users\\nitin\\anaconda3\\lib\\site-packages (from requests<3.0.0,>=2.23.0->deep-translator) (3.3)\n",
      "Requirement already satisfied: urllib3<1.27,>=1.21.1 in c:\\users\\nitin\\anaconda3\\lib\\site-packages (from requests<3.0.0,>=2.23.0->deep-translator) (1.26.11)\n",
      "Requirement already satisfied: certifi>=2017.4.17 in c:\\users\\nitin\\anaconda3\\lib\\site-packages (from requests<3.0.0,>=2.23.0->deep-translator) (2022.9.14)\n"
     ]
    }
   ],
   "source": [
    "!pip install deep-translator \n"
   ]
  },
  {
   "cell_type": "raw",
   "id": "d5e4ef48",
   "metadata": {},
   "source": [
    "def speech_to_text(): # Function to convert speech to text\n",
    "    with Microphone() as source:  \n",
    "        print(\"Speak a medical term:\")  # Ask the user to speak\n",
    "        audio = recognizer.listen(source) # Listen to the audio from microphone\n",
    "        try:\n",
    "            text = recognizer.recognize_google(audio)  # Use Google API to convert audio to text\n",
    "            print(\"You said:\", text)  # Show the text that was recognized\n",
    "            return text\n",
    "        except:\n",
    "            print(\"Speech Recognition Failed\") # If something goes wrong\n",
    "            return None"
   ]
  },
  {
   "cell_type": "code",
   "execution_count": 3,
   "id": "04d515ff",
   "metadata": {},
   "outputs": [],
   "source": [
    "from speech_recognition import Recognizer, Microphone # For converting speech to text\n",
    "from deep_translator import GoogleTranslator # For translating text to another language\n",
    "from gtts import gTTS # For converting text to speech (voice output)\n",
    "import pandas as pd # For handling tabular data like Excel or CSV files\n",
    "import os # For working with file system (like saving audio or CSV)\n",
    "import datetime # For recording date and time\n",
    "\n",
    "recognizer = Recognizer() # Create a recognizer object to process audio input\n",
    "\n",
    "def speech_to_text():\n",
    "    text = input(\"Type a medical term: \")\n",
    "    return text\n",
    "\n",
    "def translate_text(text, target_lang='es'):  # Function to translate text into another language\n",
    "    try:\n",
    "         # Automatically detect the input language and translate to target_lang\n",
    "        translated = GoogleTranslator(source='auto', target=target_lang).translate(text)\n",
    "        print(\"Translated:\", translated)  # Show the translated word\n",
    "        return translated\n",
    "    except Exception as e:\n",
    "        print(\"Translation error:\", e) # If translation fails, print error\n",
    "        return None\n",
    "\n",
    "def speak_text(text): # Function to speak the translated text aloud\n",
    "    tts = gTTS(text=text, lang='en') # Convert text to speech using gTTS\n",
    "    tts.save(\"output.mp3\") # Save the audio file\n",
    "    os.system(\"start output.mp3\")  # Play the audio (use \"start\" for Windows)\n",
    "\n",
    "def log_to_ehr(original, translated, lang): #Function to log the result into a dummy Electronic Health Record (CSV file)\n",
    "    # Create a small table with the translation details\n",
    "    df = pd.DataFrame([{\n",
    "        \"Timestamp\": datetime.datetime.now(),  # Current date and time\n",
    "        \"MedicalTerm\": original,                # Original term spoken\n",
    "        \"TranslatedTerm\": translated,           # Translated output\n",
    "        \"Language\": lang                         # Language code used\n",
    "    }])\n",
    "    if os.path.exists(\"ehr_dummy.csv\"):  # If file already exists, add data without writing header again\n",
    "        df.to_csv(\"ehr_dummy.csv\", mode='a', header=False, index=False)\n",
    "    else:                                   # If file does not exist, create a new file with header\n",
    "        df.to_csv(\"ehr_dummy.csv\", index=False)\n",
    "\n",
    "def main():  #Main function to run the complete process\n",
    "    term = speech_to_text()    # Step 1: Get spoken input from user\n",
    "    if not term:\n",
    "        return   # Stop if no speech was recognized\n",
    "    \n",
    "    # Ask user which language they want to translate into (like \"hi\" for Hindi)\n",
    "    lang = input(\"Enter language code (es, fr, hi, etc.): \") \n",
    "    translated = translate_text(term, lang)   # Step 2: Translate the spoken word\n",
    "    if translated:   # Step 3: If translation worked, speak it and save to file\n",
    "        speak_text(translated)\n",
    "        log_to_ehr(term, translated, lang)\n",
    "\n",
    "# Run in Jupyter:\n",
    "# main()\n"
   ]
  },
  {
   "cell_type": "code",
   "execution_count": 6,
   "id": "99b247ef",
   "metadata": {},
   "outputs": [
    {
     "name": "stdout",
     "output_type": "stream",
     "text": [
      "Type a medical term: fever\n",
      "Enter language code (es, fr, hi, etc.): hi\n",
      "Translated: बुखार\n"
     ]
    }
   ],
   "source": [
    "main()"
   ]
  },
  {
   "cell_type": "code",
   "execution_count": null,
   "id": "c029ef7b",
   "metadata": {},
   "outputs": [],
   "source": []
  }
 ],
 "metadata": {
  "kernelspec": {
   "display_name": "Python 3 (ipykernel)",
   "language": "python",
   "name": "python3"
  },
  "language_info": {
   "codemirror_mode": {
    "name": "ipython",
    "version": 3
   },
   "file_extension": ".py",
   "mimetype": "text/x-python",
   "name": "python",
   "nbconvert_exporter": "python",
   "pygments_lexer": "ipython3",
   "version": "3.9.13"
  }
 },
 "nbformat": 4,
 "nbformat_minor": 5
}
